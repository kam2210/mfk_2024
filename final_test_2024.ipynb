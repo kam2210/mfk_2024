{
 "cells": [
  {
   "cell_type": "code",
   "execution_count": 1,
   "id": "56ecae27-e7fb-4493-8f1c-1bdb9257c425",
   "metadata": {},
   "outputs": [],
   "source": [
    "import pandas as pd\n",
    "import numpy as np\n",
    "import matplotlib.pyplot as plt\n",
    "import seaborn as sns\n",
    "import scipy.stats as stats"
   ]
  },
  {
   "cell_type": "code",
   "execution_count": 2,
   "id": "b98feb51-8cf5-4ec1-aae1-79f5c45ee4ee",
   "metadata": {},
   "outputs": [],
   "source": [
    "sns.set_theme(style=\"darkgrid\")"
   ]
  },
  {
   "cell_type": "code",
   "execution_count": null,
   "id": "7f93092b-9bf7-4a11-9857-f2b7adad2dd8",
   "metadata": {},
   "outputs": [],
   "source": []
  },
  {
   "cell_type": "code",
   "execution_count": 3,
   "id": "b8c3fec8-4181-435b-a125-8fa46b87f9da",
   "metadata": {},
   "outputs": [],
   "source": [
    "TEST_DIR = 'C:/Users/marat/tests/'"
   ]
  },
  {
   "cell_type": "markdown",
   "id": "f53294eb-73b3-44a5-aba1-1fd90f88ba7e",
   "metadata": {},
   "source": [
    "# Получаем данные"
   ]
  },
  {
   "cell_type": "code",
   "execution_count": 4,
   "id": "3be90382-a4ef-4e9b-9be1-6f162d66246f",
   "metadata": {},
   "outputs": [],
   "source": [
    "DATA_DIR = 'C:/Users/marat/mfk_2024/'"
   ]
  },
  {
   "cell_type": "code",
   "execution_count": 5,
   "id": "a16672a4-c5ec-4a14-8dcf-4589912a6504",
   "metadata": {},
   "outputs": [],
   "source": [
    "df = pd.read_csv(f'{DATA_DIR}flights_NY.csv')"
   ]
  },
  {
   "cell_type": "code",
   "execution_count": 6,
   "id": "2ba9013c-afdd-4451-93e3-7f85635083c9",
   "metadata": {},
   "outputs": [
    {
     "data": {
      "text/html": [
       "<div>\n",
       "<style scoped>\n",
       "    .dataframe tbody tr th:only-of-type {\n",
       "        vertical-align: middle;\n",
       "    }\n",
       "\n",
       "    .dataframe tbody tr th {\n",
       "        vertical-align: top;\n",
       "    }\n",
       "\n",
       "    .dataframe thead th {\n",
       "        text-align: right;\n",
       "    }\n",
       "</style>\n",
       "<table border=\"1\" class=\"dataframe\">\n",
       "  <thead>\n",
       "    <tr style=\"text-align: right;\">\n",
       "      <th></th>\n",
       "      <th>year</th>\n",
       "      <th>month</th>\n",
       "      <th>day</th>\n",
       "      <th>dep_time</th>\n",
       "      <th>dep_delay</th>\n",
       "      <th>arr_time</th>\n",
       "      <th>arr_delay</th>\n",
       "      <th>carrier</th>\n",
       "      <th>tailnum</th>\n",
       "      <th>flight</th>\n",
       "      <th>origin</th>\n",
       "      <th>dest</th>\n",
       "      <th>air_time</th>\n",
       "      <th>distance</th>\n",
       "    </tr>\n",
       "  </thead>\n",
       "  <tbody>\n",
       "    <tr>\n",
       "      <th>0</th>\n",
       "      <td>2013</td>\n",
       "      <td>1</td>\n",
       "      <td>1</td>\n",
       "      <td>517.0</td>\n",
       "      <td>2.0</td>\n",
       "      <td>830.0</td>\n",
       "      <td>11.0</td>\n",
       "      <td>UA</td>\n",
       "      <td>N14228</td>\n",
       "      <td>1545</td>\n",
       "      <td>EWR</td>\n",
       "      <td>IAH</td>\n",
       "      <td>227.0</td>\n",
       "      <td>1400</td>\n",
       "    </tr>\n",
       "    <tr>\n",
       "      <th>1</th>\n",
       "      <td>2013</td>\n",
       "      <td>1</td>\n",
       "      <td>1</td>\n",
       "      <td>533.0</td>\n",
       "      <td>4.0</td>\n",
       "      <td>850.0</td>\n",
       "      <td>20.0</td>\n",
       "      <td>UA</td>\n",
       "      <td>N24211</td>\n",
       "      <td>1714</td>\n",
       "      <td>LGA</td>\n",
       "      <td>IAH</td>\n",
       "      <td>227.0</td>\n",
       "      <td>1416</td>\n",
       "    </tr>\n",
       "    <tr>\n",
       "      <th>2</th>\n",
       "      <td>2013</td>\n",
       "      <td>1</td>\n",
       "      <td>1</td>\n",
       "      <td>542.0</td>\n",
       "      <td>2.0</td>\n",
       "      <td>923.0</td>\n",
       "      <td>33.0</td>\n",
       "      <td>AA</td>\n",
       "      <td>N619AA</td>\n",
       "      <td>1141</td>\n",
       "      <td>JFK</td>\n",
       "      <td>MIA</td>\n",
       "      <td>160.0</td>\n",
       "      <td>1089</td>\n",
       "    </tr>\n",
       "    <tr>\n",
       "      <th>3</th>\n",
       "      <td>2013</td>\n",
       "      <td>1</td>\n",
       "      <td>1</td>\n",
       "      <td>544.0</td>\n",
       "      <td>-1.0</td>\n",
       "      <td>1004.0</td>\n",
       "      <td>-18.0</td>\n",
       "      <td>B6</td>\n",
       "      <td>N804JB</td>\n",
       "      <td>725</td>\n",
       "      <td>JFK</td>\n",
       "      <td>BQN</td>\n",
       "      <td>183.0</td>\n",
       "      <td>1576</td>\n",
       "    </tr>\n",
       "    <tr>\n",
       "      <th>4</th>\n",
       "      <td>2013</td>\n",
       "      <td>1</td>\n",
       "      <td>1</td>\n",
       "      <td>554.0</td>\n",
       "      <td>-6.0</td>\n",
       "      <td>812.0</td>\n",
       "      <td>-25.0</td>\n",
       "      <td>DL</td>\n",
       "      <td>N668DN</td>\n",
       "      <td>461</td>\n",
       "      <td>LGA</td>\n",
       "      <td>ATL</td>\n",
       "      <td>116.0</td>\n",
       "      <td>762</td>\n",
       "    </tr>\n",
       "  </tbody>\n",
       "</table>\n",
       "</div>"
      ],
      "text/plain": [
       "   year  month  day  dep_time  dep_delay  arr_time  arr_delay carrier tailnum  \\\n",
       "0  2013      1    1     517.0        2.0     830.0       11.0      UA  N14228   \n",
       "1  2013      1    1     533.0        4.0     850.0       20.0      UA  N24211   \n",
       "2  2013      1    1     542.0        2.0     923.0       33.0      AA  N619AA   \n",
       "3  2013      1    1     544.0       -1.0    1004.0      -18.0      B6  N804JB   \n",
       "4  2013      1    1     554.0       -6.0     812.0      -25.0      DL  N668DN   \n",
       "\n",
       "   flight origin dest  air_time  distance  \n",
       "0    1545    EWR  IAH     227.0      1400  \n",
       "1    1714    LGA  IAH     227.0      1416  \n",
       "2    1141    JFK  MIA     160.0      1089  \n",
       "3     725    JFK  BQN     183.0      1576  \n",
       "4     461    LGA  ATL     116.0       762  "
      ]
     },
     "execution_count": 6,
     "metadata": {},
     "output_type": "execute_result"
    }
   ],
   "source": [
    "df.head()"
   ]
  },
  {
   "cell_type": "code",
   "execution_count": 7,
   "id": "22d3f923-847b-4e93-b38f-5efad9bd885e",
   "metadata": {},
   "outputs": [],
   "source": [
    "raw_df_len = len(df)"
   ]
  },
  {
   "cell_type": "markdown",
   "id": "5f6dff37-2e2e-418f-bd98-3447a5114368",
   "metadata": {},
   "source": [
    "Удаляем строки с пропущенными значениями"
   ]
  },
  {
   "cell_type": "code",
   "execution_count": 8,
   "id": "618cc679-a78b-49f6-8c0a-4a8167d098f0",
   "metadata": {},
   "outputs": [],
   "source": [
    "df = df.dropna()"
   ]
  },
  {
   "cell_type": "code",
   "execution_count": 9,
   "id": "f35a8e76-15c5-4ac6-a841-4928b7b5753f",
   "metadata": {},
   "outputs": [
    {
     "name": "stdout",
     "output_type": "stream",
     "text": [
      "\n",
      "удалено строк с пустыми значениями: 9430\n",
      "\n"
     ]
    }
   ],
   "source": [
    "print(f\"\\nудалено строк с пустыми значениями: {raw_df_len - len(df)}\\n\")"
   ]
  },
  {
   "cell_type": "code",
   "execution_count": 10,
   "id": "d0a5779f-2040-4da2-ad15-d8fd2a4a90d9",
   "metadata": {},
   "outputs": [
    {
     "data": {
      "text/html": [
       "<div>\n",
       "<style scoped>\n",
       "    .dataframe tbody tr th:only-of-type {\n",
       "        vertical-align: middle;\n",
       "    }\n",
       "\n",
       "    .dataframe tbody tr th {\n",
       "        vertical-align: top;\n",
       "    }\n",
       "\n",
       "    .dataframe thead th {\n",
       "        text-align: right;\n",
       "    }\n",
       "</style>\n",
       "<table border=\"1\" class=\"dataframe\">\n",
       "  <thead>\n",
       "    <tr style=\"text-align: right;\">\n",
       "      <th></th>\n",
       "      <th>dep_delay</th>\n",
       "      <th>arr_delay</th>\n",
       "      <th>air_time</th>\n",
       "      <th>distance</th>\n",
       "    </tr>\n",
       "  </thead>\n",
       "  <tbody>\n",
       "    <tr>\n",
       "      <th>count</th>\n",
       "      <td>327346.000000</td>\n",
       "      <td>327346.000000</td>\n",
       "      <td>327346.000000</td>\n",
       "      <td>327346.000000</td>\n",
       "    </tr>\n",
       "    <tr>\n",
       "      <th>mean</th>\n",
       "      <td>12.555156</td>\n",
       "      <td>6.895377</td>\n",
       "      <td>150.686460</td>\n",
       "      <td>1048.371314</td>\n",
       "    </tr>\n",
       "    <tr>\n",
       "      <th>std</th>\n",
       "      <td>40.065688</td>\n",
       "      <td>44.633292</td>\n",
       "      <td>93.688305</td>\n",
       "      <td>735.908523</td>\n",
       "    </tr>\n",
       "    <tr>\n",
       "      <th>min</th>\n",
       "      <td>-43.000000</td>\n",
       "      <td>-86.000000</td>\n",
       "      <td>20.000000</td>\n",
       "      <td>80.000000</td>\n",
       "    </tr>\n",
       "    <tr>\n",
       "      <th>25%</th>\n",
       "      <td>-5.000000</td>\n",
       "      <td>-17.000000</td>\n",
       "      <td>82.000000</td>\n",
       "      <td>509.000000</td>\n",
       "    </tr>\n",
       "    <tr>\n",
       "      <th>50%</th>\n",
       "      <td>-2.000000</td>\n",
       "      <td>-5.000000</td>\n",
       "      <td>129.000000</td>\n",
       "      <td>888.000000</td>\n",
       "    </tr>\n",
       "    <tr>\n",
       "      <th>75%</th>\n",
       "      <td>11.000000</td>\n",
       "      <td>14.000000</td>\n",
       "      <td>192.000000</td>\n",
       "      <td>1389.000000</td>\n",
       "    </tr>\n",
       "    <tr>\n",
       "      <th>max</th>\n",
       "      <td>1301.000000</td>\n",
       "      <td>1272.000000</td>\n",
       "      <td>695.000000</td>\n",
       "      <td>4983.000000</td>\n",
       "    </tr>\n",
       "  </tbody>\n",
       "</table>\n",
       "</div>"
      ],
      "text/plain": [
       "           dep_delay      arr_delay       air_time       distance\n",
       "count  327346.000000  327346.000000  327346.000000  327346.000000\n",
       "mean       12.555156       6.895377     150.686460    1048.371314\n",
       "std        40.065688      44.633292      93.688305     735.908523\n",
       "min       -43.000000     -86.000000      20.000000      80.000000\n",
       "25%        -5.000000     -17.000000      82.000000     509.000000\n",
       "50%        -2.000000      -5.000000     129.000000     888.000000\n",
       "75%        11.000000      14.000000     192.000000    1389.000000\n",
       "max      1301.000000    1272.000000     695.000000    4983.000000"
      ]
     },
     "execution_count": 10,
     "metadata": {},
     "output_type": "execute_result"
    }
   ],
   "source": [
    "df[['dep_delay', 'arr_delay', 'air_time', 'distance']].describe()"
   ]
  },
  {
   "cell_type": "markdown",
   "id": "f08e7577-4bcb-428b-beb5-6c87461fcb7f",
   "metadata": {},
   "source": [
    "# Задание №1"
   ]
  },
  {
   "cell_type": "markdown",
   "id": "c5d5a356-3060-4a13-b340-21415b0ce66d",
   "metadata": {},
   "source": [
    "### a) По каждой авиакомпании оцените вероятность того, что задержка прилета будет положительной"
   ]
  },
  {
   "cell_type": "code",
   "execution_count": 11,
   "id": "0f3839af-de75-4c74-bb31-df0778758654",
   "metadata": {},
   "outputs": [],
   "source": [
    "df_delays = df[['carrier', 'flight', 'arr_delay']].copy()"
   ]
  },
  {
   "cell_type": "code",
   "execution_count": 12,
   "id": "511325ea-d4c3-4982-abb9-a0d3a1e46452",
   "metadata": {},
   "outputs": [],
   "source": [
    "df_delays['is_pos_delay'] = df_delays['arr_delay'].apply(lambda x: 1 if x > 0 else 0)"
   ]
  },
  {
   "cell_type": "code",
   "execution_count": 13,
   "id": "34e861d1-0ea0-4f95-9cfa-924b69952bc7",
   "metadata": {},
   "outputs": [
    {
     "data": {
      "text/html": [
       "<div>\n",
       "<style scoped>\n",
       "    .dataframe tbody tr th:only-of-type {\n",
       "        vertical-align: middle;\n",
       "    }\n",
       "\n",
       "    .dataframe tbody tr th {\n",
       "        vertical-align: top;\n",
       "    }\n",
       "\n",
       "    .dataframe thead th {\n",
       "        text-align: right;\n",
       "    }\n",
       "</style>\n",
       "<table border=\"1\" class=\"dataframe\">\n",
       "  <thead>\n",
       "    <tr style=\"text-align: right;\">\n",
       "      <th>is_pos_delay</th>\n",
       "      <th>0</th>\n",
       "      <th>1</th>\n",
       "      <th>flights_total</th>\n",
       "      <th>prob_of_positive_delay</th>\n",
       "    </tr>\n",
       "    <tr>\n",
       "      <th>carrier</th>\n",
       "      <th></th>\n",
       "      <th></th>\n",
       "      <th></th>\n",
       "      <th></th>\n",
       "    </tr>\n",
       "  </thead>\n",
       "  <tbody>\n",
       "    <tr>\n",
       "      <th>AS</th>\n",
       "      <td>520</td>\n",
       "      <td>189</td>\n",
       "      <td>709</td>\n",
       "      <td>0.266573</td>\n",
       "    </tr>\n",
       "    <tr>\n",
       "      <th>HA</th>\n",
       "      <td>245</td>\n",
       "      <td>97</td>\n",
       "      <td>342</td>\n",
       "      <td>0.283626</td>\n",
       "    </tr>\n",
       "    <tr>\n",
       "      <th>AA</th>\n",
       "      <td>21241</td>\n",
       "      <td>10706</td>\n",
       "      <td>31947</td>\n",
       "      <td>0.335118</td>\n",
       "    </tr>\n",
       "    <tr>\n",
       "      <th>VX</th>\n",
       "      <td>3370</td>\n",
       "      <td>1746</td>\n",
       "      <td>5116</td>\n",
       "      <td>0.341282</td>\n",
       "    </tr>\n",
       "    <tr>\n",
       "      <th>DL</th>\n",
       "      <td>31245</td>\n",
       "      <td>16413</td>\n",
       "      <td>47658</td>\n",
       "      <td>0.344391</td>\n",
       "    </tr>\n",
       "    <tr>\n",
       "      <th>OO</th>\n",
       "      <td>19</td>\n",
       "      <td>10</td>\n",
       "      <td>29</td>\n",
       "      <td>0.344828</td>\n",
       "    </tr>\n",
       "    <tr>\n",
       "      <th>US</th>\n",
       "      <td>12482</td>\n",
       "      <td>7349</td>\n",
       "      <td>19831</td>\n",
       "      <td>0.370581</td>\n",
       "    </tr>\n",
       "    <tr>\n",
       "      <th>9E</th>\n",
       "      <td>10657</td>\n",
       "      <td>6637</td>\n",
       "      <td>17294</td>\n",
       "      <td>0.383775</td>\n",
       "    </tr>\n",
       "    <tr>\n",
       "      <th>UA</th>\n",
       "      <td>35560</td>\n",
       "      <td>22222</td>\n",
       "      <td>57782</td>\n",
       "      <td>0.384583</td>\n",
       "    </tr>\n",
       "    <tr>\n",
       "      <th>B6</th>\n",
       "      <td>30440</td>\n",
       "      <td>23609</td>\n",
       "      <td>54049</td>\n",
       "      <td>0.436807</td>\n",
       "    </tr>\n",
       "    <tr>\n",
       "      <th>WN</th>\n",
       "      <td>6740</td>\n",
       "      <td>5304</td>\n",
       "      <td>12044</td>\n",
       "      <td>0.440385</td>\n",
       "    </tr>\n",
       "    <tr>\n",
       "      <th>MQ</th>\n",
       "      <td>13344</td>\n",
       "      <td>11693</td>\n",
       "      <td>25037</td>\n",
       "      <td>0.467029</td>\n",
       "    </tr>\n",
       "    <tr>\n",
       "      <th>YV</th>\n",
       "      <td>286</td>\n",
       "      <td>258</td>\n",
       "      <td>544</td>\n",
       "      <td>0.474265</td>\n",
       "    </tr>\n",
       "    <tr>\n",
       "      <th>EV</th>\n",
       "      <td>26624</td>\n",
       "      <td>24484</td>\n",
       "      <td>51108</td>\n",
       "      <td>0.479064</td>\n",
       "    </tr>\n",
       "    <tr>\n",
       "      <th>F9</th>\n",
       "      <td>289</td>\n",
       "      <td>392</td>\n",
       "      <td>681</td>\n",
       "      <td>0.575624</td>\n",
       "    </tr>\n",
       "    <tr>\n",
       "      <th>FL</th>\n",
       "      <td>1280</td>\n",
       "      <td>1895</td>\n",
       "      <td>3175</td>\n",
       "      <td>0.596850</td>\n",
       "    </tr>\n",
       "  </tbody>\n",
       "</table>\n",
       "</div>"
      ],
      "text/plain": [
       "is_pos_delay      0      1  flights_total  prob_of_positive_delay\n",
       "carrier                                                          \n",
       "AS              520    189            709                0.266573\n",
       "HA              245     97            342                0.283626\n",
       "AA            21241  10706          31947                0.335118\n",
       "VX             3370   1746           5116                0.341282\n",
       "DL            31245  16413          47658                0.344391\n",
       "OO               19     10             29                0.344828\n",
       "US            12482   7349          19831                0.370581\n",
       "9E            10657   6637          17294                0.383775\n",
       "UA            35560  22222          57782                0.384583\n",
       "B6            30440  23609          54049                0.436807\n",
       "WN             6740   5304          12044                0.440385\n",
       "MQ            13344  11693          25037                0.467029\n",
       "YV              286    258            544                0.474265\n",
       "EV            26624  24484          51108                0.479064\n",
       "F9              289    392            681                0.575624\n",
       "FL             1280   1895           3175                0.596850"
      ]
     },
     "execution_count": 13,
     "metadata": {},
     "output_type": "execute_result"
    }
   ],
   "source": [
    "df_delays.pivot_table(\n",
    "    index='carrier', columns='is_pos_delay', values='arr_delay', aggfunc='count'\n",
    ").assign(flights_total = lambda x: x[0] + x[1]\n",
    ").assign(prob_of_positive_delay = lambda x: x[1] / x['flights_total']\n",
    ").sort_values('prob_of_positive_delay')"
   ]
  },
  {
   "cell_type": "code",
   "execution_count": null,
   "id": "ae56cfe6-bc9a-436f-8d6f-213c5bdaefbd",
   "metadata": {},
   "outputs": [],
   "source": []
  },
  {
   "cell_type": "markdown",
   "id": "1f223209-7687-4033-af0c-797e7f75d558",
   "metadata": {},
   "source": [
    "### б) Нарисуйте график, показывающий распределение вероятности положительной задержки по авиакомпаниям"
   ]
  },
  {
   "cell_type": "code",
   "execution_count": 14,
   "id": "d71113b9-ec6b-4533-bcdd-31fac15fa073",
   "metadata": {},
   "outputs": [],
   "source": [
    "df_pos_delays = df_delays.query('is_pos_delay == 1').copy()"
   ]
  },
  {
   "cell_type": "code",
   "execution_count": 15,
   "id": "22fe6936-132f-4165-a310-23aca3644167",
   "metadata": {},
   "outputs": [
    {
     "data": {
      "text/html": [
       "<div>\n",
       "<style scoped>\n",
       "    .dataframe tbody tr th:only-of-type {\n",
       "        vertical-align: middle;\n",
       "    }\n",
       "\n",
       "    .dataframe tbody tr th {\n",
       "        vertical-align: top;\n",
       "    }\n",
       "\n",
       "    .dataframe thead th {\n",
       "        text-align: right;\n",
       "    }\n",
       "</style>\n",
       "<table border=\"1\" class=\"dataframe\">\n",
       "  <thead>\n",
       "    <tr style=\"text-align: right;\">\n",
       "      <th></th>\n",
       "      <th>index</th>\n",
       "      <th>arr_delay</th>\n",
       "    </tr>\n",
       "  </thead>\n",
       "  <tbody>\n",
       "    <tr>\n",
       "      <th>0</th>\n",
       "      <td>count</td>\n",
       "      <td>133004.000000</td>\n",
       "    </tr>\n",
       "    <tr>\n",
       "      <th>1</th>\n",
       "      <td>mean</td>\n",
       "      <td>40.342501</td>\n",
       "    </tr>\n",
       "    <tr>\n",
       "      <th>2</th>\n",
       "      <td>std</td>\n",
       "      <td>53.346334</td>\n",
       "    </tr>\n",
       "    <tr>\n",
       "      <th>3</th>\n",
       "      <td>min</td>\n",
       "      <td>1.000000</td>\n",
       "    </tr>\n",
       "    <tr>\n",
       "      <th>4</th>\n",
       "      <td>25%</td>\n",
       "      <td>8.000000</td>\n",
       "    </tr>\n",
       "    <tr>\n",
       "      <th>5</th>\n",
       "      <td>50%</td>\n",
       "      <td>21.000000</td>\n",
       "    </tr>\n",
       "    <tr>\n",
       "      <th>6</th>\n",
       "      <td>75%</td>\n",
       "      <td>51.000000</td>\n",
       "    </tr>\n",
       "    <tr>\n",
       "      <th>7</th>\n",
       "      <td>max</td>\n",
       "      <td>1272.000000</td>\n",
       "    </tr>\n",
       "  </tbody>\n",
       "</table>\n",
       "</div>"
      ],
      "text/plain": [
       "   index      arr_delay\n",
       "0  count  133004.000000\n",
       "1   mean      40.342501\n",
       "2    std      53.346334\n",
       "3    min       1.000000\n",
       "4    25%       8.000000\n",
       "5    50%      21.000000\n",
       "6    75%      51.000000\n",
       "7    max    1272.000000"
      ]
     },
     "execution_count": 15,
     "metadata": {},
     "output_type": "execute_result"
    }
   ],
   "source": [
    "df_pos_delays[['arr_delay']].describe().reset_index()"
   ]
  },
  {
   "cell_type": "code",
   "execution_count": 16,
   "id": "0d8fcfea-de7b-4cd5-b172-5a6b85393467",
   "metadata": {},
   "outputs": [
    {
     "data": {
      "text/plain": [
       "<seaborn.axisgrid.FacetGrid at 0x14d2c6f5350>"
      ]
     },
     "execution_count": 16,
     "metadata": {},
     "output_type": "execute_result"
    },
    {
     "data": {
      "image/png": "[encoded data removed]",
      "text/plain": [
       "<Figure size 500x500 with 1 Axes>"
      ]
     },
     "metadata": {},
     "output_type": "display_data"
    }
   ],
   "source": [
    "sns.displot(df_pos_delays, x=\"arr_delay\", kind=\"kde\")"
   ]
  },
  {
   "cell_type": "code",
   "execution_count": null,
   "id": "3bdb6bac-338b-40c8-bb75-6d70bf7f136b",
   "metadata": {},
   "outputs": [],
   "source": []
  },
  {
   "cell_type": "markdown",
   "id": "ee1c709c-2a60-4660-acf4-a934cdd05065",
   "metadata": {},
   "source": [
    "# Задание №2"
   ]
  },
  {
   "cell_type": "markdown",
   "id": "825dfe1a-1a98-43b7-84c3-a643550a0a27",
   "metadata": {},
   "source": [
    "### a) Постройте гистограмму расстояния перелета distance. Выделите на ней три группы перелетов: короткие, средние и длинные."
   ]
  },
  {
   "cell_type": "code",
   "execution_count": 17,
   "id": "4ea204ca-ef05-463d-9dc2-9642cdebb257",
   "metadata": {},
   "outputs": [
    {
     "data": {
      "text/html": [
       "<div>\n",
       "<style scoped>\n",
       "    .dataframe tbody tr th:only-of-type {\n",
       "        vertical-align: middle;\n",
       "    }\n",
       "\n",
       "    .dataframe tbody tr th {\n",
       "        vertical-align: top;\n",
       "    }\n",
       "\n",
       "    .dataframe thead th {\n",
       "        text-align: right;\n",
       "    }\n",
       "</style>\n",
       "<table border=\"1\" class=\"dataframe\">\n",
       "  <thead>\n",
       "    <tr style=\"text-align: right;\">\n",
       "      <th></th>\n",
       "      <th>distance</th>\n",
       "    </tr>\n",
       "  </thead>\n",
       "  <tbody>\n",
       "    <tr>\n",
       "      <th>count</th>\n",
       "      <td>327346.000000</td>\n",
       "    </tr>\n",
       "    <tr>\n",
       "      <th>mean</th>\n",
       "      <td>1048.371314</td>\n",
       "    </tr>\n",
       "    <tr>\n",
       "      <th>std</th>\n",
       "      <td>735.908523</td>\n",
       "    </tr>\n",
       "    <tr>\n",
       "      <th>min</th>\n",
       "      <td>80.000000</td>\n",
       "    </tr>\n",
       "    <tr>\n",
       "      <th>25%</th>\n",
       "      <td>509.000000</td>\n",
       "    </tr>\n",
       "    <tr>\n",
       "      <th>50%</th>\n",
       "      <td>888.000000</td>\n",
       "    </tr>\n",
       "    <tr>\n",
       "      <th>75%</th>\n",
       "      <td>1389.000000</td>\n",
       "    </tr>\n",
       "    <tr>\n",
       "      <th>max</th>\n",
       "      <td>4983.000000</td>\n",
       "    </tr>\n",
       "  </tbody>\n",
       "</table>\n",
       "</div>"
      ],
      "text/plain": [
       "            distance\n",
       "count  327346.000000\n",
       "mean     1048.371314\n",
       "std       735.908523\n",
       "min        80.000000\n",
       "25%       509.000000\n",
       "50%       888.000000\n",
       "75%      1389.000000\n",
       "max      4983.000000"
      ]
     },
     "execution_count": 17,
     "metadata": {},
     "output_type": "execute_result"
    }
   ],
   "source": [
    "df[['distance']].describe()"
   ]
  },
  {
   "cell_type": "code",
   "execution_count": 18,
   "id": "7c870dce-2ec6-451e-84b9-9da02f430af6",
   "metadata": {},
   "outputs": [
    {
     "data": {
      "text/plain": [
       "<seaborn.axisgrid.FacetGrid at 0x14d2ccc6850>"
      ]
     },
     "execution_count": 18,
     "metadata": {},
     "output_type": "execute_result"
    },
    {
     "data": {
      "image/png": "[encoded data removed]",
      "text/plain": [
       "<Figure size 500x500 with 1 Axes>"
      ]
     },
     "metadata": {},
     "output_type": "display_data"
    }
   ],
   "source": [
    "sns.displot(df, x='distance', bins=50)"
   ]
  },
  {
   "cell_type": "markdown",
   "id": "a7eb78cf-8e82-4ab4-991f-c2e3b3f4ad0e",
   "metadata": {},
   "source": [
    "### б) Какие значения distance разумно выбрать в качестве границы, разделяющей короткие. средние и длинные перелеты?\n",
    "\n",
    "Разбиение distance на группы задаем по результатам визуального анализа гистограммы"
   ]
  },
  {
   "cell_type": "code",
   "execution_count": 19,
   "id": "e045ce13-114b-420e-acda-0e7f58e31717",
   "metadata": {},
   "outputs": [],
   "source": [
    "def calc_distance_range(row):\n",
    "    if row['distance'] <= 1000:\n",
    "        return 'короткие'\n",
    "    elif row['distance'] <= 3000:\n",
    "        return 'средние'\n",
    "    else:\n",
    "        return 'длинные'"
   ]
  },
  {
   "cell_type": "code",
   "execution_count": 20,
   "id": "05660f36-f17d-43c2-a622-e3fd26c62172",
   "metadata": {},
   "outputs": [],
   "source": [
    "df['distance_range'] = df.apply(calc_distance_range, axis=1)"
   ]
  },
  {
   "cell_type": "code",
   "execution_count": 21,
   "id": "b8e899c3-829d-40d7-9365-9ecd9db9e2ca",
   "metadata": {},
   "outputs": [
    {
     "data": {
      "text/html": [
       "<div>\n",
       "<style scoped>\n",
       "    .dataframe tbody tr th:only-of-type {\n",
       "        vertical-align: middle;\n",
       "    }\n",
       "\n",
       "    .dataframe tbody tr th {\n",
       "        vertical-align: top;\n",
       "    }\n",
       "\n",
       "    .dataframe thead th {\n",
       "        text-align: right;\n",
       "    }\n",
       "</style>\n",
       "<table border=\"1\" class=\"dataframe\">\n",
       "  <thead>\n",
       "    <tr style=\"text-align: right;\">\n",
       "      <th></th>\n",
       "      <th>year</th>\n",
       "      <th>month</th>\n",
       "      <th>day</th>\n",
       "      <th>dep_time</th>\n",
       "      <th>dep_delay</th>\n",
       "      <th>arr_time</th>\n",
       "      <th>arr_delay</th>\n",
       "      <th>carrier</th>\n",
       "      <th>tailnum</th>\n",
       "      <th>flight</th>\n",
       "      <th>origin</th>\n",
       "      <th>dest</th>\n",
       "      <th>air_time</th>\n",
       "      <th>distance</th>\n",
       "      <th>distance_range</th>\n",
       "    </tr>\n",
       "  </thead>\n",
       "  <tbody>\n",
       "    <tr>\n",
       "      <th>0</th>\n",
       "      <td>2013</td>\n",
       "      <td>1</td>\n",
       "      <td>1</td>\n",
       "      <td>517.0</td>\n",
       "      <td>2.0</td>\n",
       "      <td>830.0</td>\n",
       "      <td>11.0</td>\n",
       "      <td>UA</td>\n",
       "      <td>N14228</td>\n",
       "      <td>1545</td>\n",
       "      <td>EWR</td>\n",
       "      <td>IAH</td>\n",
       "      <td>227.0</td>\n",
       "      <td>1400</td>\n",
       "      <td>средние</td>\n",
       "    </tr>\n",
       "    <tr>\n",
       "      <th>1</th>\n",
       "      <td>2013</td>\n",
       "      <td>1</td>\n",
       "      <td>1</td>\n",
       "      <td>533.0</td>\n",
       "      <td>4.0</td>\n",
       "      <td>850.0</td>\n",
       "      <td>20.0</td>\n",
       "      <td>UA</td>\n",
       "      <td>N24211</td>\n",
       "      <td>1714</td>\n",
       "      <td>LGA</td>\n",
       "      <td>IAH</td>\n",
       "      <td>227.0</td>\n",
       "      <td>1416</td>\n",
       "      <td>средние</td>\n",
       "    </tr>\n",
       "    <tr>\n",
       "      <th>2</th>\n",
       "      <td>2013</td>\n",
       "      <td>1</td>\n",
       "      <td>1</td>\n",
       "      <td>542.0</td>\n",
       "      <td>2.0</td>\n",
       "      <td>923.0</td>\n",
       "      <td>33.0</td>\n",
       "      <td>AA</td>\n",
       "      <td>N619AA</td>\n",
       "      <td>1141</td>\n",
       "      <td>JFK</td>\n",
       "      <td>MIA</td>\n",
       "      <td>160.0</td>\n",
       "      <td>1089</td>\n",
       "      <td>средние</td>\n",
       "    </tr>\n",
       "    <tr>\n",
       "      <th>3</th>\n",
       "      <td>2013</td>\n",
       "      <td>1</td>\n",
       "      <td>1</td>\n",
       "      <td>544.0</td>\n",
       "      <td>-1.0</td>\n",
       "      <td>1004.0</td>\n",
       "      <td>-18.0</td>\n",
       "      <td>B6</td>\n",
       "      <td>N804JB</td>\n",
       "      <td>725</td>\n",
       "      <td>JFK</td>\n",
       "      <td>BQN</td>\n",
       "      <td>183.0</td>\n",
       "      <td>1576</td>\n",
       "      <td>средние</td>\n",
       "    </tr>\n",
       "    <tr>\n",
       "      <th>4</th>\n",
       "      <td>2013</td>\n",
       "      <td>1</td>\n",
       "      <td>1</td>\n",
       "      <td>554.0</td>\n",
       "      <td>-6.0</td>\n",
       "      <td>812.0</td>\n",
       "      <td>-25.0</td>\n",
       "      <td>DL</td>\n",
       "      <td>N668DN</td>\n",
       "      <td>461</td>\n",
       "      <td>LGA</td>\n",
       "      <td>ATL</td>\n",
       "      <td>116.0</td>\n",
       "      <td>762</td>\n",
       "      <td>короткие</td>\n",
       "    </tr>\n",
       "  </tbody>\n",
       "</table>\n",
       "</div>"
      ],
      "text/plain": [
       "   year  month  day  dep_time  dep_delay  arr_time  arr_delay carrier tailnum  \\\n",
       "0  2013      1    1     517.0        2.0     830.0       11.0      UA  N14228   \n",
       "1  2013      1    1     533.0        4.0     850.0       20.0      UA  N24211   \n",
       "2  2013      1    1     542.0        2.0     923.0       33.0      AA  N619AA   \n",
       "3  2013      1    1     544.0       -1.0    1004.0      -18.0      B6  N804JB   \n",
       "4  2013      1    1     554.0       -6.0     812.0      -25.0      DL  N668DN   \n",
       "\n",
       "   flight origin dest  air_time  distance distance_range  \n",
       "0    1545    EWR  IAH     227.0      1400        средние  \n",
       "1    1714    LGA  IAH     227.0      1416        средние  \n",
       "2    1141    JFK  MIA     160.0      1089        средние  \n",
       "3     725    JFK  BQN     183.0      1576        средние  \n",
       "4     461    LGA  ATL     116.0       762       короткие  "
      ]
     },
     "execution_count": 21,
     "metadata": {},
     "output_type": "execute_result"
    }
   ],
   "source": [
    "df.head()"
   ]
  },
  {
   "cell_type": "code",
   "execution_count": 22,
   "id": "43146e87-ef53-460a-aa0d-937ce060ec6f",
   "metadata": {},
   "outputs": [
    {
     "data": {
      "text/html": [
       "<div>\n",
       "<style scoped>\n",
       "    .dataframe tbody tr th:only-of-type {\n",
       "        vertical-align: middle;\n",
       "    }\n",
       "\n",
       "    .dataframe tbody tr th {\n",
       "        vertical-align: top;\n",
       "    }\n",
       "\n",
       "    .dataframe thead th {\n",
       "        text-align: right;\n",
       "    }\n",
       "</style>\n",
       "<table border=\"1\" class=\"dataframe\">\n",
       "  <thead>\n",
       "    <tr style=\"text-align: right;\">\n",
       "      <th></th>\n",
       "      <th>flight</th>\n",
       "    </tr>\n",
       "    <tr>\n",
       "      <th>distance_range</th>\n",
       "      <th></th>\n",
       "    </tr>\n",
       "  </thead>\n",
       "  <tbody>\n",
       "    <tr>\n",
       "      <th>длинные</th>\n",
       "      <td>709</td>\n",
       "    </tr>\n",
       "    <tr>\n",
       "      <th>короткие</th>\n",
       "      <td>182594</td>\n",
       "    </tr>\n",
       "    <tr>\n",
       "      <th>средние</th>\n",
       "      <td>144043</td>\n",
       "    </tr>\n",
       "  </tbody>\n",
       "</table>\n",
       "</div>"
      ],
      "text/plain": [
       "                flight\n",
       "distance_range        \n",
       "длинные            709\n",
       "короткие        182594\n",
       "средние         144043"
      ]
     },
     "execution_count": 22,
     "metadata": {},
     "output_type": "execute_result"
    }
   ],
   "source": [
    "df.pivot_table(index='distance_range', values='flight', aggfunc='count')"
   ]
  },
  {
   "cell_type": "code",
   "execution_count": null,
   "id": "572f9026-2793-4d45-9b62-2ae14a3ac5a8",
   "metadata": {},
   "outputs": [],
   "source": []
  },
  {
   "cell_type": "markdown",
   "id": "068f4953-e8c7-42df-a996-00295e3ae09d",
   "metadata": {},
   "source": [
    "### в) Куда летят самолеты в группе длинных перелетов?"
   ]
  },
  {
   "cell_type": "code",
   "execution_count": 23,
   "id": "39359527-351b-4e48-a4d8-cfbd4df0c265",
   "metadata": {},
   "outputs": [
    {
     "data": {
      "text/html": [
       "<div>\n",
       "<style scoped>\n",
       "    .dataframe tbody tr th:only-of-type {\n",
       "        vertical-align: middle;\n",
       "    }\n",
       "\n",
       "    .dataframe tbody tr th {\n",
       "        vertical-align: top;\n",
       "    }\n",
       "\n",
       "    .dataframe thead th {\n",
       "        text-align: right;\n",
       "    }\n",
       "</style>\n",
       "<table border=\"1\" class=\"dataframe\">\n",
       "  <thead>\n",
       "    <tr style=\"text-align: right;\">\n",
       "      <th></th>\n",
       "      <th>flight</th>\n",
       "    </tr>\n",
       "    <tr>\n",
       "      <th>dest</th>\n",
       "      <th></th>\n",
       "    </tr>\n",
       "  </thead>\n",
       "  <tbody>\n",
       "    <tr>\n",
       "      <th>ANC</th>\n",
       "      <td>8</td>\n",
       "    </tr>\n",
       "    <tr>\n",
       "      <th>HNL</th>\n",
       "      <td>701</td>\n",
       "    </tr>\n",
       "  </tbody>\n",
       "</table>\n",
       "</div>"
      ],
      "text/plain": [
       "      flight\n",
       "dest        \n",
       "ANC        8\n",
       "HNL      701"
      ]
     },
     "execution_count": 23,
     "metadata": {},
     "output_type": "execute_result"
    }
   ],
   "source": [
    "df.query('distance_range == \"длинные\"'\n",
    ").pivot_table(\n",
    "    index='dest',\n",
    "    values='flight',\n",
    "    aggfunc='count'\n",
    ")"
   ]
  },
  {
   "cell_type": "code",
   "execution_count": null,
   "id": "9bbd0073-053f-4c9f-858a-3154665cf259",
   "metadata": {},
   "outputs": [],
   "source": []
  },
  {
   "cell_type": "markdown",
   "id": "f8ff0659-1fb6-46eb-8535-8f2cf03c9334",
   "metadata": {},
   "source": [
    "### г) Найдите среднее время задержки вылета в каждой из трех выделенных групп. \n"
   ]
  },
  {
   "cell_type": "code",
   "execution_count": 24,
   "id": "ca6f4bc6-e1b0-401a-9eb7-5cec2fa429fb",
   "metadata": {},
   "outputs": [
    {
     "data": {
      "text/html": [
       "<div>\n",
       "<style scoped>\n",
       "    .dataframe tbody tr th:only-of-type {\n",
       "        vertical-align: middle;\n",
       "    }\n",
       "\n",
       "    .dataframe tbody tr th {\n",
       "        vertical-align: top;\n",
       "    }\n",
       "\n",
       "    .dataframe thead th {\n",
       "        text-align: right;\n",
       "    }\n",
       "</style>\n",
       "<table border=\"1\" class=\"dataframe\">\n",
       "  <thead>\n",
       "    <tr style=\"text-align: right;\">\n",
       "      <th></th>\n",
       "      <th>dep_delay</th>\n",
       "    </tr>\n",
       "    <tr>\n",
       "      <th>distance_range</th>\n",
       "      <th></th>\n",
       "    </tr>\n",
       "  </thead>\n",
       "  <tbody>\n",
       "    <tr>\n",
       "      <th>длинные</th>\n",
       "      <td>29.685315</td>\n",
       "    </tr>\n",
       "    <tr>\n",
       "      <th>короткие</th>\n",
       "      <td>43.359241</td>\n",
       "    </tr>\n",
       "    <tr>\n",
       "      <th>средние</th>\n",
       "      <td>34.375425</td>\n",
       "    </tr>\n",
       "  </tbody>\n",
       "</table>\n",
       "</div>"
      ],
      "text/plain": [
       "                dep_delay\n",
       "distance_range           \n",
       "длинные         29.685315\n",
       "короткие        43.359241\n",
       "средние         34.375425"
      ]
     },
     "execution_count": 24,
     "metadata": {},
     "output_type": "execute_result"
    }
   ],
   "source": [
    "df.query('dep_delay > 0'\n",
    ").pivot_table(\n",
    "    index='distance_range',\n",
    "    values='dep_delay',\n",
    "    aggfunc='mean'\n",
    ")"
   ]
  },
  {
   "cell_type": "code",
   "execution_count": null,
   "id": "2fe25167-18a4-4970-a610-0abb74e897cc",
   "metadata": {},
   "outputs": [],
   "source": []
  },
  {
   "cell_type": "markdown",
   "id": "8f3085e4-93b7-4c42-8c5d-0a3b9e8f07c9",
   "metadata": {},
   "source": [
    "# Задание №3"
   ]
  },
  {
   "cell_type": "markdown",
   "id": "a2ebf470-2648-46b9-a476-67d95e40ea32",
   "metadata": {},
   "source": [
    "### а) Нарисуйте график среднего времени задержки вылета по месяцам и отметьте на нем границы доверительных интервалов с уровнем доверия 0.95."
   ]
  },
  {
   "cell_type": "code",
   "execution_count": 25,
   "id": "ac1312df-f920-4a81-b2a7-3709ea23b14e",
   "metadata": {},
   "outputs": [
    {
     "data": {
      "image/png": "[encoded data removed]",
      "text/plain": [
       "<Figure size 640x480 with 1 Axes>"
      ]
     },
     "metadata": {},
     "output_type": "display_data"
    }
   ],
   "source": [
    "ax = sns.lineplot(data=df, x='month', y='dep_delay', estimator='mean', errorbar=('ci', 95))"
   ]
  },
  {
   "cell_type": "markdown",
   "id": "74ef6063-1341-4257-bc6f-39e6a7c16bd4",
   "metadata": {},
   "source": []
  },
  {
   "cell_type": "markdown",
   "id": "5beb642b-e222-4dde-966b-475b9c01b405",
   "metadata": {},
   "source": [
    "### б) С помощью подходящего статистического теста проверьте, можно ли принять гипотезу о равенстве средних в январе и феврале на уровне значимости 0.05? на уровне значимости 0.01? "
   ]
  },
  {
   "cell_type": "markdown",
   "id": "86901fbf-3a92-4359-8a02-5b10fa9495ab",
   "metadata": {},
   "source": [
    "Гипотеза: средние января и февраля различаются.\n",
    "  - Нулевая гипотеза (Н₀): среднее значение января РАВНО среднему значению февраля;\n",
    "  - Альтернативная гипотеза (Н₁): среднее значение января НЕ РАВНО среднему значению февраля."
   ]
  },
  {
   "cell_type": "code",
   "execution_count": 26,
   "id": "20d02c84-20dc-4f10-b4bb-96f691b27609",
   "metadata": {},
   "outputs": [
    {
     "name": "stdout",
     "output_type": "stream",
     "text": [
      "\n",
      "Количество наблюдений в январе: 26398\n",
      "\n",
      "Количество наблюдений в феврале: 23611\n"
     ]
    }
   ],
   "source": [
    "for key, value in {1: 'январе', 2: 'феврале'}.items():\n",
    "    n = len(df.query('month == @key')[['dep_delay']])\n",
    "    print(f\"\\nКоличество наблюдений в {value}: {n}\")"
   ]
  },
  {
   "cell_type": "code",
   "execution_count": null,
   "id": "a7c83a64-0d91-4e6e-8c45-d66494e03efe",
   "metadata": {},
   "outputs": [],
   "source": []
  },
  {
   "cell_type": "markdown",
   "id": "b0a3c693-9a3c-44c1-ae2a-3755883a6b0c",
   "metadata": {},
   "source": [
    "Используем t-тест для проверки гипотезы, так как n достаточно велико."
   ]
  },
  {
   "cell_type": "code",
   "execution_count": 27,
   "id": "bcbfd1c6-3351-49db-b774-139192d40889",
   "metadata": {},
   "outputs": [],
   "source": [
    "TtestResult = stats.ttest_ind (\n",
    "    a=df.query('month == 1')[['dep_delay']], \n",
    "    b=df.query('month == 2')[['dep_delay']],\n",
    "    equal_var=False\n",
    ")"
   ]
  },
  {
   "cell_type": "code",
   "execution_count": 28,
   "id": "fb9c261e-bfd0-4004-9063-06fcb7fc472f",
   "metadata": {},
   "outputs": [
    {
     "name": "stdout",
     "output_type": "stream",
     "text": [
      "p-значение: 0.016989443595194147\n"
     ]
    }
   ],
   "source": [
    "print('p-значение:', TtestResult.pvalue[0])"
   ]
  },
  {
   "cell_type": "code",
   "execution_count": 29,
   "id": "aca3bee6-f1ff-445f-b0cd-71b7ded2d889",
   "metadata": {},
   "outputs": [
    {
     "name": "stdout",
     "output_type": "stream",
     "text": [
      "\n",
      "При уровне значимости 0.05 отвергаем нулевую гипотезу --> средние не равны\n",
      "\n",
      "При уровне значимости 0.01 не получилось отвергнуть нулевую гипотезу --> средние могут быть равны\n"
     ]
    }
   ],
   "source": [
    "for alpha in [.05, .01]:\n",
    "    if (TtestResult.pvalue[0] < alpha):\n",
    "        print(f\"\\nПри уровне значимости {alpha} отвергаем нулевую гипотезу --> средние не равны\")\n",
    "    else:\n",
    "        print(f\"\\nПри уровне значимости {alpha} не получилось отвергнуть нулевую гипотезу --> средние могут быть равны\")"
   ]
  },
  {
   "cell_type": "code",
   "execution_count": null,
   "id": "75ee94b7-15fa-4879-8587-107d43a8ede9",
   "metadata": {},
   "outputs": [],
   "source": []
  },
  {
   "cell_type": "markdown",
   "id": "59f47178-5832-47f9-9d5b-5389d33662ff",
   "metadata": {},
   "source": [
    "# Задание №4"
   ]
  },
  {
   "cell_type": "markdown",
   "id": "4362b6ce-88dd-48e8-9bc1-88cd121c824d",
   "metadata": {},
   "source": [
    "### а) Найдите коэффициент корреляции между расстоянием distance и временем полета air_time."
   ]
  },
  {
   "cell_type": "code",
   "execution_count": 30,
   "id": "75c90c62-596b-4966-a111-48c8dc6258a0",
   "metadata": {},
   "outputs": [
    {
     "name": "stdout",
     "output_type": "stream",
     "text": [
      "\n",
      "Коэффициент корреляции между расстоянием и временем полета: 0.9906496472248582\n"
     ]
    }
   ],
   "source": [
    "print(f\"\\nКоэффициент корреляции между расстоянием и временем полета: {np.corrcoef(df['distance'], df['air_time'])[0][1]}\")"
   ]
  },
  {
   "cell_type": "markdown",
   "id": "ee6e48e4-2be3-4368-b2ab-202d5abd0970",
   "metadata": {},
   "source": [
    "Коэффициент корреляции равен почти 1, что говорит о наличии сильной, почти линейной взаимосвязи между рядами, что вполне логично при описании зависимости времени полета от расстояния"
   ]
  },
  {
   "cell_type": "code",
   "execution_count": null,
   "id": "9abda035-a93a-473d-96ae-23bb72396d2c",
   "metadata": {},
   "outputs": [],
   "source": []
  },
  {
   "cell_type": "markdown",
   "id": "3c4bbd6d-099b-43f9-831d-25b9d28b93d7",
   "metadata": {},
   "source": [
    "### б) Постройте точечную диаграмму в осях distance (х) и air_time (y). Найдите коэффициенты линейной регрессии и нанесите полученную прямую на график. Как можно интерпретировать смысл коэффициентов полученной линейной модели?\n"
   ]
  },
  {
   "cell_type": "code",
   "execution_count": null,
   "id": "da240396-88ff-4a96-b96b-b56a6ca555bb",
   "metadata": {},
   "outputs": [],
   "source": []
  },
  {
   "cell_type": "code",
   "execution_count": 31,
   "id": "d5ab0287-4563-4c2c-aff0-a72e17b952d5",
   "metadata": {},
   "outputs": [],
   "source": [
    "res = stats.linregress(df['distance'], df['air_time'])"
   ]
  },
  {
   "cell_type": "code",
   "execution_count": 32,
   "id": "f7d6314f-2e34-4f23-a0d4-4b2f464e795f",
   "metadata": {},
   "outputs": [
    {
     "data": {
      "text/plain": [
       "LinregressResult(slope=0.12611932467386067, intercept=18.466578127760357, rvalue=0.9906496472248583, pvalue=0.0, stderr=3.0357833082095988e-05, intercept_stderr=0.03888460539304109)"
      ]
     },
     "execution_count": 32,
     "metadata": {},
     "output_type": "execute_result"
    }
   ],
   "source": [
    "res"
   ]
  },
  {
   "cell_type": "code",
   "execution_count": 33,
   "id": "4dd43802-2820-408e-9d57-2f052f39f8d2",
   "metadata": {},
   "outputs": [
    {
     "name": "stdout",
     "output_type": "stream",
     "text": [
      "\n",
      "Наклон линии линейной регресии: 0.12611932467386067,\n",
      "Пересечение с осью Х: 18.466578127760357\n"
     ]
    }
   ],
   "source": [
    "print (f\"\\nНаклон линии линейной регресии: {res.slope},\\nПересечение с осью Х: {res.intercept}\")"
   ]
  },
  {
   "cell_type": "code",
   "execution_count": 34,
   "id": "cf5ff156-a294-44e7-94d6-d0b541480356",
   "metadata": {},
   "outputs": [
    {
     "data": {
      "image/png": "[encoded data removed]",
      "text/plain": [
       "<Figure size 640x480 with 1 Axes>"
      ]
     },
     "metadata": {},
     "output_type": "display_data"
    }
   ],
   "source": [
    "plt.scatter(\n",
    "    x=df['distance'],\n",
    "    y=df['air_time'],\n",
    "    s=2,\n",
    "    label='данные'\n",
    ")\n",
    "\n",
    "plt.plot(df['distance'], res.intercept + res.slope * df['distance'], 'r', label='линейная регрессия')\n",
    "\n",
    "plt.legend()\n",
    "\n",
    "plt.show()"
   ]
  },
  {
   "cell_type": "markdown",
   "id": "e86dffc2-64e6-40c4-a552-6249614e5b41",
   "metadata": {},
   "source": [
    "1) Коэффициент наклона линии линейной регрессии показывает величину изменения зависимой переменной при изменении независимой переменной на 1;\n",
    "2) Сдвиг линии (точка пересечения линии регрессии с осью Х) показывает среднее значение зависимой переменной, когда независимая равна 0."
   ]
  },
  {
   "cell_type": "code",
   "execution_count": null,
   "id": "25510818-ed4b-4ecf-9213-c215dc6cc565",
   "metadata": {},
   "outputs": [],
   "source": []
  },
  {
   "cell_type": "markdown",
   "id": "3f9b5973-b2e9-4768-8591-74b11bd091e0",
   "metadata": {},
   "source": [
    "# Задание №5"
   ]
  },
  {
   "cell_type": "markdown",
   "id": "554f1917-a827-4240-8f5f-13e532c48c76",
   "metadata": {},
   "source": [
    "### а) Постройте нормированную гистограмму распределения задержки прилета по тем рейсам, которые вылетели в пределах +/-15 минут от времени в расписании. Сделайте предположение о том, каким распределением может описываться полученная гистограмма, оцените параметры этого распределения и нанесите график плотности на график с гистограммой."
   ]
  },
  {
   "cell_type": "code",
   "execution_count": 35,
   "id": "55858eb5-d0ca-4962-a988-1fd2207e57f4",
   "metadata": {},
   "outputs": [
    {
     "data": {
      "text/plain": [
       "count    256608.000000\n",
       "mean         -8.251115\n",
       "std          17.907215\n",
       "min         -86.000000\n",
       "25%         -20.000000\n",
       "50%         -10.000000\n",
       "75%           1.000000\n",
       "max         194.000000\n",
       "Name: arr_delay, dtype: float64"
      ]
     },
     "execution_count": 35,
     "metadata": {},
     "output_type": "execute_result"
    }
   ],
   "source": [
    "df.query('abs(dep_delay) <= 15')['arr_delay'].describe()"
   ]
  },
  {
   "cell_type": "code",
   "execution_count": 36,
   "id": "ff541ce9-9e99-4124-b45e-df878bf2638e",
   "metadata": {},
   "outputs": [
    {
     "data": {
      "text/plain": [
       "<Axes: xlabel='arr_delay', ylabel='Density'>"
      ]
     },
     "execution_count": 36,
     "metadata": {},
     "output_type": "execute_result"
    },
    {
     "data": {
      "image/png": "[encoded data removed]",
      "text/plain": [
       "<Figure size 640x480 with 1 Axes>"
      ]
     },
     "metadata": {},
     "output_type": "display_data"
    }
   ],
   "source": [
    "sns.histplot(df.query('abs(dep_delay) <= 15')['arr_delay'], kde=True, stat=\"density\")"
   ]
  },
  {
   "cell_type": "code",
   "execution_count": 37,
   "id": "58d8b45e-20ee-4ecf-8431-942e843f9818",
   "metadata": {},
   "outputs": [
    {
     "name": "stdout",
     "output_type": "stream",
     "text": [
      "\n",
      "Мат. ожидание: -8.251114540466393,    \n",
      "Мода: -13.0,    \n",
      "Медиана: -10.0\n"
     ]
    }
   ],
   "source": [
    "print(\n",
    "    f\"\\nМат. ожидание: {df.query('abs(dep_delay) <= 15')['arr_delay'].mean()},\\\n",
    "    \\nМода: {df.query('abs(dep_delay) <= 15')['arr_delay'].mode()[0]},\\\n",
    "    \\nМедиана: {df.query('abs(dep_delay) <= 15')['arr_delay'].median()}\"\n",
    ")"
   ]
  },
  {
   "cell_type": "markdown",
   "id": "b001dbac-0940-4d89-8362-363139fea1fd",
   "metadata": {},
   "source": [
    "Мат. ожидание, мода и медиана, почти, равны, а также учитывая колоколообразную форму графика плотности, можно предположить, что распределение является **нормальным**. Параметры нормального распределения - математическое ожидание и дисперсия"
   ]
  },
  {
   "cell_type": "code",
   "execution_count": 38,
   "id": "523f7a4b-e7e7-4739-9fba-7c605f541ae2",
   "metadata": {},
   "outputs": [
    {
     "name": "stdout",
     "output_type": "stream",
     "text": [
      "\n",
      "Мат. ожидание: -8.251114540466393,    \n",
      "Дисперсия: 17.907214960280736\n"
     ]
    }
   ],
   "source": [
    "print(\n",
    "    f\"\\nМат. ожидание: {df.query('abs(dep_delay) <= 15')['arr_delay'].mean()},\\\n",
    "    \\nДисперсия: {df.query('abs(dep_delay) <= 15')['arr_delay'].std()}\"\n",
    ")"
   ]
  },
  {
   "cell_type": "code",
   "execution_count": null,
   "id": "de714999-94cc-46ae-8877-d7bf9f128246",
   "metadata": {},
   "outputs": [],
   "source": []
  },
  {
   "cell_type": "markdown",
   "id": "fe2f4f43-e005-4cc1-9571-ae06493da2eb",
   "metadata": {},
   "source": [
    "#### б) С помощью подходящего статистического теста проверьте, можно ли принять гипотезу о выбранном распределении?"
   ]
  },
  {
   "cell_type": "markdown",
   "id": "603a2c66-0716-4f20-9ff1-31646f603cd9",
   "metadata": {},
   "source": [
    "Проверим гипотезу о нормальности распределения при помощи теста Колмогорова-Смирнова:"
   ]
  },
  {
   "cell_type": "code",
   "execution_count": 39,
   "id": "1b120c5d-ab2a-4ff2-9ea3-d92f3e5f40fa",
   "metadata": {},
   "outputs": [
    {
     "data": {
      "text/plain": [
       "KstestResult(statistic=0.06353745240085662, pvalue=0.0, statistic_location=-3.0, statistic_sign=1)"
      ]
     },
     "execution_count": 39,
     "metadata": {},
     "output_type": "execute_result"
    }
   ],
   "source": [
    "stats.kstest(\n",
    "    df.query('abs(dep_delay) <= 15')['arr_delay'],\n",
    "    'norm',\n",
    "    args=(\n",
    "        df.query('abs(dep_delay) <= 15')['arr_delay'].mean(),\n",
    "        df.query('abs(dep_delay) <= 15')['arr_delay'].std()\n",
    "    )\n",
    ")"
   ]
  },
  {
   "cell_type": "markdown",
   "id": "f862cb96-51f3-496d-ba32-7a763ca885cf",
   "metadata": {},
   "source": [
    "Видим, что p_value = 0 --> Гипотеза о нормальности **отвергается**"
   ]
  },
  {
   "cell_type": "code",
   "execution_count": null,
   "id": "8f87f35e-c0f7-4bf0-867e-279db5309680",
   "metadata": {},
   "outputs": [],
   "source": []
  },
  {
   "cell_type": "markdown",
   "id": "6cc1905d-d35c-4804-bc99-56dbd2df53a6",
   "metadata": {},
   "source": [
    "# Задание №6"
   ]
  },
  {
   "cell_type": "markdown",
   "id": "f8456c5f-9945-4b55-9058-63bfab3dde6c",
   "metadata": {},
   "source": [
    "### а) Постройте модель логистической регрессии, которая будет предсказывать, что задержка прилета составит более 15 минут. Какие признаки вы будете использовать? Какова точность полученной модели (precision, recall, accuracy)?"
   ]
  },
  {
   "cell_type": "markdown",
   "id": "c96cf5a1-4562-4c49-9187-76b8268a4ff4",
   "metadata": {},
   "source": [
    "Для моделирования будем использовать библиотеку sklearn, откуда импортируем процедуры:\n",
    " - train_test_split - разделение выборки на обучающую и тестовую выборки;\n",
    " - LogisticRegression - обучение модели логистическая регрессия;\n",
    " - metrics - получение метрик обученной модели"
   ]
  },
  {
   "cell_type": "code",
   "execution_count": 40,
   "id": "ccfb436b-b5b2-467c-aaad-43c468e3344a",
   "metadata": {},
   "outputs": [],
   "source": [
    "from sklearn.model_selection import train_test_split\n",
    "from sklearn.linear_model import LogisticRegression\n",
    "from sklearn import metrics"
   ]
  },
  {
   "cell_type": "code",
   "execution_count": null,
   "id": "e575dcd8-9d9a-4cec-b27a-cf374d1944a6",
   "metadata": {},
   "outputs": [],
   "source": []
  },
  {
   "cell_type": "markdown",
   "id": "b0b315f3-9c5c-4f40-b38c-0e6edbcc1ebd",
   "metadata": {},
   "source": [
    "Создадим в датасете поле классов: 1 - рейс задержался более, чем на 15 минут; 0 - задержка менее 15 минут"
   ]
  },
  {
   "cell_type": "code",
   "execution_count": 41,
   "id": "1b62db6d-7195-48a5-be9c-9679fd380286",
   "metadata": {},
   "outputs": [],
   "source": [
    "df['is_arr_delay_15m_plus'] = df['arr_delay'].apply(lambda x: 1 if x > 15 else 0)"
   ]
  },
  {
   "cell_type": "code",
   "execution_count": 42,
   "id": "125d638b-a805-4d0b-a724-819215f512e1",
   "metadata": {
    "scrolled": true
   },
   "outputs": [
    {
     "data": {
      "text/html": [
       "<div>\n",
       "<style scoped>\n",
       "    .dataframe tbody tr th:only-of-type {\n",
       "        vertical-align: middle;\n",
       "    }\n",
       "\n",
       "    .dataframe tbody tr th {\n",
       "        vertical-align: top;\n",
       "    }\n",
       "\n",
       "    .dataframe thead th {\n",
       "        text-align: right;\n",
       "    }\n",
       "</style>\n",
       "<table border=\"1\" class=\"dataframe\">\n",
       "  <thead>\n",
       "    <tr style=\"text-align: right;\">\n",
       "      <th></th>\n",
       "      <th>year</th>\n",
       "      <th>month</th>\n",
       "      <th>day</th>\n",
       "      <th>dep_time</th>\n",
       "      <th>dep_delay</th>\n",
       "      <th>arr_time</th>\n",
       "      <th>arr_delay</th>\n",
       "      <th>carrier</th>\n",
       "      <th>tailnum</th>\n",
       "      <th>flight</th>\n",
       "      <th>origin</th>\n",
       "      <th>dest</th>\n",
       "      <th>air_time</th>\n",
       "      <th>distance</th>\n",
       "      <th>distance_range</th>\n",
       "      <th>is_arr_delay_15m_plus</th>\n",
       "    </tr>\n",
       "  </thead>\n",
       "  <tbody>\n",
       "    <tr>\n",
       "      <th>0</th>\n",
       "      <td>2013</td>\n",
       "      <td>1</td>\n",
       "      <td>1</td>\n",
       "      <td>517.0</td>\n",
       "      <td>2.0</td>\n",
       "      <td>830.0</td>\n",
       "      <td>11.0</td>\n",
       "      <td>UA</td>\n",
       "      <td>N14228</td>\n",
       "      <td>1545</td>\n",
       "      <td>EWR</td>\n",
       "      <td>IAH</td>\n",
       "      <td>227.0</td>\n",
       "      <td>1400</td>\n",
       "      <td>средние</td>\n",
       "      <td>0</td>\n",
       "    </tr>\n",
       "    <tr>\n",
       "      <th>1</th>\n",
       "      <td>2013</td>\n",
       "      <td>1</td>\n",
       "      <td>1</td>\n",
       "      <td>533.0</td>\n",
       "      <td>4.0</td>\n",
       "      <td>850.0</td>\n",
       "      <td>20.0</td>\n",
       "      <td>UA</td>\n",
       "      <td>N24211</td>\n",
       "      <td>1714</td>\n",
       "      <td>LGA</td>\n",
       "      <td>IAH</td>\n",
       "      <td>227.0</td>\n",
       "      <td>1416</td>\n",
       "      <td>средние</td>\n",
       "      <td>1</td>\n",
       "    </tr>\n",
       "    <tr>\n",
       "      <th>2</th>\n",
       "      <td>2013</td>\n",
       "      <td>1</td>\n",
       "      <td>1</td>\n",
       "      <td>542.0</td>\n",
       "      <td>2.0</td>\n",
       "      <td>923.0</td>\n",
       "      <td>33.0</td>\n",
       "      <td>AA</td>\n",
       "      <td>N619AA</td>\n",
       "      <td>1141</td>\n",
       "      <td>JFK</td>\n",
       "      <td>MIA</td>\n",
       "      <td>160.0</td>\n",
       "      <td>1089</td>\n",
       "      <td>средние</td>\n",
       "      <td>1</td>\n",
       "    </tr>\n",
       "    <tr>\n",
       "      <th>3</th>\n",
       "      <td>2013</td>\n",
       "      <td>1</td>\n",
       "      <td>1</td>\n",
       "      <td>544.0</td>\n",
       "      <td>-1.0</td>\n",
       "      <td>1004.0</td>\n",
       "      <td>-18.0</td>\n",
       "      <td>B6</td>\n",
       "      <td>N804JB</td>\n",
       "      <td>725</td>\n",
       "      <td>JFK</td>\n",
       "      <td>BQN</td>\n",
       "      <td>183.0</td>\n",
       "      <td>1576</td>\n",
       "      <td>средние</td>\n",
       "      <td>0</td>\n",
       "    </tr>\n",
       "    <tr>\n",
       "      <th>4</th>\n",
       "      <td>2013</td>\n",
       "      <td>1</td>\n",
       "      <td>1</td>\n",
       "      <td>554.0</td>\n",
       "      <td>-6.0</td>\n",
       "      <td>812.0</td>\n",
       "      <td>-25.0</td>\n",
       "      <td>DL</td>\n",
       "      <td>N668DN</td>\n",
       "      <td>461</td>\n",
       "      <td>LGA</td>\n",
       "      <td>ATL</td>\n",
       "      <td>116.0</td>\n",
       "      <td>762</td>\n",
       "      <td>короткие</td>\n",
       "      <td>0</td>\n",
       "    </tr>\n",
       "  </tbody>\n",
       "</table>\n",
       "</div>"
      ],
      "text/plain": [
       "   year  month  day  dep_time  dep_delay  arr_time  arr_delay carrier tailnum  \\\n",
       "0  2013      1    1     517.0        2.0     830.0       11.0      UA  N14228   \n",
       "1  2013      1    1     533.0        4.0     850.0       20.0      UA  N24211   \n",
       "2  2013      1    1     542.0        2.0     923.0       33.0      AA  N619AA   \n",
       "3  2013      1    1     544.0       -1.0    1004.0      -18.0      B6  N804JB   \n",
       "4  2013      1    1     554.0       -6.0     812.0      -25.0      DL  N668DN   \n",
       "\n",
       "   flight origin dest  air_time  distance distance_range  \\\n",
       "0    1545    EWR  IAH     227.0      1400        средние   \n",
       "1    1714    LGA  IAH     227.0      1416        средние   \n",
       "2    1141    JFK  MIA     160.0      1089        средние   \n",
       "3     725    JFK  BQN     183.0      1576        средние   \n",
       "4     461    LGA  ATL     116.0       762       короткие   \n",
       "\n",
       "   is_arr_delay_15m_plus  \n",
       "0                      0  \n",
       "1                      1  \n",
       "2                      1  \n",
       "3                      0  \n",
       "4                      0  "
      ]
     },
     "execution_count": 42,
     "metadata": {},
     "output_type": "execute_result"
    }
   ],
   "source": [
    "df.head()"
   ]
  },
  {
   "cell_type": "code",
   "execution_count": null,
   "id": "f43a8105-8b59-4965-961a-43f98bd95ce3",
   "metadata": {},
   "outputs": [],
   "source": []
  },
  {
   "cell_type": "markdown",
   "id": "f2e65e92-3166-4aa4-bc7f-ab2e2dfa5380",
   "metadata": {},
   "source": [
    "Создадим несколько наборов признаков, которые, интуитивно, могут опосредовать опоздания, на этих наборах обучим логистическую регрессию и, замерив точность для каждого варианта набора, определим какой из наборов дает более точные предсказания."
   ]
  },
  {
   "cell_type": "code",
   "execution_count": 43,
   "id": "5a8aa9e3-0cb5-42b2-9272-4b1ab4304177",
   "metadata": {},
   "outputs": [],
   "source": [
    "factors = [\n",
    "    ['dep_delay', 'distance'],\n",
    "    ['dep_delay', 'air_time'],\n",
    "    ['air_time', 'distance'],\n",
    "    ['dep_delay', 'distance', 'air_time']\n",
    "]"
   ]
  },
  {
   "cell_type": "code",
   "execution_count": 44,
   "id": "427220bb-e7b4-4ca8-9cc8-a11ace691eb3",
   "metadata": {},
   "outputs": [],
   "source": [
    "y = df['is_arr_delay_15m_plus']"
   ]
  },
  {
   "cell_type": "code",
   "execution_count": 45,
   "id": "39ea7449-4d74-4f7b-a2fb-1097c3fd5ea6",
   "metadata": {},
   "outputs": [],
   "source": [
    "model_metrics = pd.DataFrame([])\n",
    "i = 0\n",
    "for x in factors:\n",
    "    model_metrics_row = {}\n",
    "    X = df[x]\n",
    "    X_train, X_test, y_train, y_test = train_test_split(X, y, test_size=.3, random_state=0)\n",
    "    log_regression = LogisticRegression()\n",
    "    log_regression.fit(X_train, y_train)\n",
    "    y_pred = log_regression.predict(X_test)\n",
    "    model_metrics_row.update({\n",
    "        'factors': str(x),\n",
    "        'accuracy': metrics.accuracy_score(y_test, y_pred),\n",
    "        'precision': metrics.precision_score(y_test, y_pred),\n",
    "        'recall_score': metrics.recall_score(y_test, y_pred)\n",
    "    })\n",
    "    model_metrics_row = pd.DataFrame(model_metrics_row, index=[i])\n",
    "    model_metrics = pd.concat([model_metrics, model_metrics_row], sort=False)\n",
    "    i+=1"
   ]
  },
  {
   "cell_type": "code",
   "execution_count": 46,
   "id": "4fc79d20-f6b4-4010-9c89-186a7ae01509",
   "metadata": {},
   "outputs": [
    {
     "data": {
      "text/html": [
       "<div>\n",
       "<style scoped>\n",
       "    .dataframe tbody tr th:only-of-type {\n",
       "        vertical-align: middle;\n",
       "    }\n",
       "\n",
       "    .dataframe tbody tr th {\n",
       "        vertical-align: top;\n",
       "    }\n",
       "\n",
       "    .dataframe thead th {\n",
       "        text-align: right;\n",
       "    }\n",
       "</style>\n",
       "<table border=\"1\" class=\"dataframe\">\n",
       "  <thead>\n",
       "    <tr style=\"text-align: right;\">\n",
       "      <th></th>\n",
       "      <th>factors</th>\n",
       "      <th>accuracy</th>\n",
       "      <th>precision</th>\n",
       "      <th>recall_score</th>\n",
       "    </tr>\n",
       "  </thead>\n",
       "  <tbody>\n",
       "    <tr>\n",
       "      <th>0</th>\n",
       "      <td>['dep_delay', 'distance']</td>\n",
       "      <td>0.900931</td>\n",
       "      <td>0.880162</td>\n",
       "      <td>0.673063</td>\n",
       "    </tr>\n",
       "    <tr>\n",
       "      <th>1</th>\n",
       "      <td>['dep_delay', 'air_time']</td>\n",
       "      <td>0.900768</td>\n",
       "      <td>0.880654</td>\n",
       "      <td>0.671772</td>\n",
       "    </tr>\n",
       "    <tr>\n",
       "      <th>2</th>\n",
       "      <td>['air_time', 'distance']</td>\n",
       "      <td>0.769643</td>\n",
       "      <td>0.766982</td>\n",
       "      <td>0.038377</td>\n",
       "    </tr>\n",
       "    <tr>\n",
       "      <th>3</th>\n",
       "      <td>['dep_delay', 'distance', 'air_time']</td>\n",
       "      <td>0.913619</td>\n",
       "      <td>0.892303</td>\n",
       "      <td>0.722196</td>\n",
       "    </tr>\n",
       "  </tbody>\n",
       "</table>\n",
       "</div>"
      ],
      "text/plain": [
       "                                 factors  accuracy  precision  recall_score\n",
       "0              ['dep_delay', 'distance']  0.900931   0.880162      0.673063\n",
       "1              ['dep_delay', 'air_time']  0.900768   0.880654      0.671772\n",
       "2               ['air_time', 'distance']  0.769643   0.766982      0.038377\n",
       "3  ['dep_delay', 'distance', 'air_time']  0.913619   0.892303      0.722196"
      ]
     },
     "execution_count": 46,
     "metadata": {},
     "output_type": "execute_result"
    }
   ],
   "source": [
    "model_metrics"
   ]
  },
  {
   "cell_type": "markdown",
   "id": "e1629466-7b3b-440e-aa56-59ccfbb40880",
   "metadata": {},
   "source": [
    "Как видно, наиболее высокие метрики точности демонстрирует набор признаков №3:\n",
    " - accuracy = .91  - 91% результатов, предсказанных моделью, соответствует тестовой выборке;\n",
    " - precision = .89 - правильно предсказано 89% истинно негативных классов;\n",
    " - recall_score = .72 - правильно предсказано 72% истинно положительных классов.\n",
    "\n",
    "Отдельно следует сказать, что при исключении из набора признака dep_delay резко ухудшаются метрики ([0, 1]), что говорит о том, что опоздание с вылетом - один из весомых факторов, определяющих опоздание с прилетом"
   ]
  },
  {
   "cell_type": "code",
   "execution_count": null,
   "id": "8dc5b709-7c55-4e4f-b109-53d9f451a96c",
   "metadata": {},
   "outputs": [],
   "source": []
  }
 ],
 "metadata": {
  "kernelspec": {
   "display_name": "Python 3 (ipykernel)",
   "language": "python",
   "name": "python3"
  },
  "language_info": {
   "codemirror_mode": {
    "name": "ipython",
    "version": 3
   },
   "file_extension": ".py",
   "mimetype": "text/x-python",
   "name": "python",
   "nbconvert_exporter": "python",
   "pygments_lexer": "ipython3",
   "version": "3.11.4"
  }
 },
 "nbformat": 4,
 "nbformat_minor": 5
}
